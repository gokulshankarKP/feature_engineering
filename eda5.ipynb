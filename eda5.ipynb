{
  "nbformat": 4,
  "nbformat_minor": 0,
  "metadata": {
    "colab": {
      "provenance": []
    },
    "kernelspec": {
      "name": "python3",
      "display_name": "Python 3"
    },
    "language_info": {
      "name": "python"
    }
  },
  "cells": [
    {
      "cell_type": "code",
      "execution_count": null,
      "metadata": {
        "id": "Zqzvz1xMGD7x"
      },
      "outputs": [],
      "source": []
    },
    {
      "cell_type": "markdown",
      "source": [
        "Handle Categorical Features\n",
        "One Hot Encoding"
      ],
      "metadata": {
        "id": "awy7yiN7gm1n"
      }
    },
    {
      "cell_type": "code",
      "source": [
        "import pandas as pd\n",
        "df=pd.read_csv('titanic.csv',usecols=['Sex'])\n",
        "df.head()"
      ],
      "metadata": {
        "id": "-U9MkxGngnZV"
      },
      "execution_count": null,
      "outputs": []
    },
    {
      "cell_type": "code",
      "source": [
        "pd.get_dummies(df,drop_first=True).head()"
      ],
      "metadata": {
        "id": "HLIhfALugn4u"
      },
      "execution_count": null,
      "outputs": []
    },
    {
      "cell_type": "code",
      "source": [
        "df=pd.read_csv('titanic.csv',usecols=['Embarked'])\n",
        "df['Embarked'].unique()"
      ],
      "metadata": {
        "id": "CHR23uqGgn7X"
      },
      "execution_count": null,
      "outputs": []
    },
    {
      "cell_type": "code",
      "source": [
        "df.dropna(inplace=True)\n",
        "pd.get_dummies(df,drop_first=True).head()"
      ],
      "metadata": {
        "id": "E5oL7hjngn91"
      },
      "execution_count": null,
      "outputs": []
    },
    {
      "cell_type": "code",
      "source": [
        "#### Onehotencoding with many categories in a feature\n",
        "df=pd.read_csv('mercedes.csv',usecols=[\"X0\",\"X1\",\"X2\",\"X3\",\"X4\",\"X5\",\"X6\"])\n",
        "df.head()"
      ],
      "metadata": {
        "id": "3jN3eEpygoAR"
      },
      "execution_count": null,
      "outputs": []
    },
    {
      "cell_type": "code",
      "source": [
        "for i in df.columns:\n",
        "    print(len(df[i].unique()))"
      ],
      "metadata": {
        "id": "BZ3pxo48goCv"
      },
      "execution_count": null,
      "outputs": []
    },
    {
      "cell_type": "code",
      "source": [
        "df.X1.value_counts().sort_values(ascending=False).head(10)"
      ],
      "metadata": {
        "id": "gN02k70kgoFy"
      },
      "execution_count": null,
      "outputs": []
    },
    {
      "cell_type": "code",
      "source": [
        "lst_10=df.X1.value_counts().sort_values(ascending=False).head(10).index\n",
        "lst_10=list(lst_10)"
      ],
      "metadata": {
        "id": "HAeUa6AygoIc"
      },
      "execution_count": null,
      "outputs": []
    },
    {
      "cell_type": "code",
      "source": [
        "lst_10"
      ],
      "metadata": {
        "id": "_BCYlarOgoLJ"
      },
      "execution_count": null,
      "outputs": []
    },
    {
      "cell_type": "code",
      "source": [
        "import numpy as np\n",
        "for categories in lst_10:\n",
        "    df[categories]=np.where(df['X1']==categories,1,0)\n",
        "lst_10.append('X1')\n",
        "df[lst_10]"
      ],
      "metadata": {
        "id": "L8nzCBbxgoNk"
      },
      "execution_count": null,
      "outputs": []
    },
    {
      "cell_type": "code",
      "source": [],
      "metadata": {
        "id": "BV4-3_3lgoQc"
      },
      "execution_count": null,
      "outputs": []
    },
    {
      "cell_type": "code",
      "source": [],
      "metadata": {
        "id": "bK4dwDRGgoTH"
      },
      "execution_count": null,
      "outputs": []
    },
    {
      "cell_type": "code",
      "source": [],
      "metadata": {
        "id": "opffos9JgoWD"
      },
      "execution_count": null,
      "outputs": []
    },
    {
      "cell_type": "code",
      "source": [],
      "metadata": {
        "id": "pgfsSUFqgoZm"
      },
      "execution_count": null,
      "outputs": []
    }
  ]
}